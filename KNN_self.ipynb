{
  "nbformat": 4,
  "nbformat_minor": 0,
  "metadata": {
    "colab": {
      "provenance": [],
      "authorship_tag": "ABX9TyOClqZEjoEJjjmD4JaybffT",
      "include_colab_link": true
    },
    "kernelspec": {
      "name": "python3",
      "display_name": "Python 3"
    },
    "language_info": {
      "name": "python"
    }
  },
  "cells": [
    {
      "cell_type": "markdown",
      "metadata": {
        "id": "view-in-github",
        "colab_type": "text"
      },
      "source": [
        "<a href=\"https://colab.research.google.com/github/saurabh98s/ML_gists/blob/main/KNN_self.ipynb\" target=\"_parent\"><img src=\"https://colab.research.google.com/assets/colab-badge.svg\" alt=\"Open In Colab\"/></a>"
      ]
    },
    {
      "cell_type": "code",
      "execution_count": null,
      "metadata": {
        "id": "W9ucD97MTZTm"
      },
      "outputs": [],
      "source": [
        "import numpy as np\n",
        "from sklearn import datasets\n",
        "from sklearn.model_selection import train_test_split\n",
        "from sklearn.preprocessing import StandardScaler"
      ]
    },
    {
      "cell_type": "code",
      "source": [
        "def eucledian_distance(x1,y1):\n",
        "  distance  = np.sqrt(np.sum((x1-y1)**2))\n",
        "  return distance"
      ],
      "metadata": {
        "id": "gG2qwBBeTwhm"
      },
      "execution_count": null,
      "outputs": []
    },
    {
      "cell_type": "code",
      "source": [
        "point1 = np.array([0, 6])\n",
        "point2 = np.array([6, 0])\n",
        "\n",
        "distance = eucledian_distance(point1, point2)\n",
        "print(distance)"
      ],
      "metadata": {
        "colab": {
          "base_uri": "https://localhost:8080/"
        },
        "id": "ZrTfJWvQUCvh",
        "outputId": "000ec7fb-2849-4057-fd57-299da103f202"
      },
      "execution_count": null,
      "outputs": [
        {
          "output_type": "stream",
          "name": "stdout",
          "text": [
            "8.48528137423857\n"
          ]
        }
      ]
    },
    {
      "cell_type": "code",
      "source": [
        "def get_k_neighbors(X_train, y_train, test_point, k):\n",
        "    neighbors = []\n",
        "    for i in range(len(X_train)):\n",
        "      dist = eucledian_distance(X_train[i],test_point)\n",
        "      label = y_train[i]\n",
        "      neighbors.append((dist,label))\n",
        "    neighbors.sort()\n",
        "    return neighbors[:k]\n",
        "\n"
      ],
      "metadata": {
        "id": "WkCo8W3TUKrd"
      },
      "execution_count": null,
      "outputs": []
    },
    {
      "cell_type": "code",
      "source": [
        "iris = datasets.load_iris()\n",
        "X = iris.data\n",
        "y = iris.target\n",
        "\n",
        "X_train, X_test, y_train, y_test = train_test_split(X, y, test_size=0.2, random_state=42)\n",
        "scaler = StandardScaler()\n",
        "X_train = scaler.fit_transform(X_train)\n",
        "X_test = scaler.transform(X_test)\n",
        "print(X_train,y_train)"
      ],
      "metadata": {
        "colab": {
          "base_uri": "https://localhost:8080/"
        },
        "id": "s_10FHXIYjI5",
        "outputId": "f1674c31-6dbc-439d-f953-863e2c7e27d5"
      },
      "execution_count": null,
      "outputs": [
        {
          "output_type": "stream",
          "name": "stdout",
          "text": [
            "[[-1.47393679  1.20365799 -1.56253475 -1.31260282]\n",
            " [-0.13307079  2.99237573 -1.27600637 -1.04563275]\n",
            " [ 1.08589829  0.08570939  0.38585821  0.28921757]\n",
            " [-1.23014297  0.75647855 -1.2187007  -1.31260282]\n",
            " [-1.7177306   0.30929911 -1.39061772 -1.31260282]\n",
            " [ 0.59831066 -1.25582892  0.72969227  0.95664273]\n",
            " [ 0.72020757  0.30929911  0.44316389  0.4227026 ]\n",
            " [-0.74255534  0.98006827 -1.27600637 -1.31260282]\n",
            " [-0.98634915  1.20365799 -1.33331205 -1.31260282]\n",
            " [-0.74255534  2.32160658 -1.27600637 -1.44608785]\n",
            " [-0.01117388 -0.80864948  0.78699794  0.95664273]\n",
            " [ 0.23261993  0.75647855  0.44316389  0.55618763]\n",
            " [ 1.08589829  0.08570939  0.55777524  0.4227026 ]\n",
            " [-0.49876152  1.87442714 -1.39061772 -1.04563275]\n",
            " [-0.49876152  1.4272477  -1.27600637 -1.31260282]\n",
            " [-0.37686461 -1.47941864 -0.01528151 -0.24472256]\n",
            " [ 0.59831066 -0.58505976  0.78699794  0.4227026 ]\n",
            " [ 0.72020757  0.08570939  1.01622064  0.8231577 ]\n",
            " [ 0.96400139 -0.13788033  0.38585821  0.28921757]\n",
            " [ 1.69538284  1.20365799  1.3600547   1.75755292]\n",
            " [-0.13307079 -0.36147005  0.27124686  0.15573254]\n",
            " [ 2.18297047 -0.13788033  1.64658307  1.22361279]\n",
            " [-0.2549677  -0.13788033  0.44316389  0.4227026 ]\n",
            " [-0.86445224  0.98006827 -1.33331205 -1.31260282]\n",
            " [ 2.30486738 -0.58505976  1.70388875  1.09012776]\n",
            " [-0.01117388 -0.80864948  0.21394119 -0.24472256]\n",
            " [-0.74255534  0.75647855 -1.33331205 -1.31260282]\n",
            " [-0.98634915  0.98006827 -1.39061772 -1.17911778]\n",
            " [-0.86445224  1.65083742 -1.04678367 -1.04563275]\n",
            " [-0.98634915 -2.37377751 -0.12989286 -0.24472256]\n",
            " [ 0.59831066 -0.80864948  0.67238659  0.8231577 ]\n",
            " [-1.23014297  0.75647855 -1.04678367 -1.31260282]\n",
            " [-0.98634915 -0.13788033 -1.2187007  -1.31260282]\n",
            " [-0.86445224  0.53288883 -1.16139502 -0.91214772]\n",
            " [-0.2549677  -0.80864948  0.27124686  0.15573254]\n",
            " [-0.86445224  0.75647855 -1.27600637 -1.31260282]\n",
            " [-0.13307079 -0.13788033  0.27124686  0.02224751]\n",
            " [ 2.30486738  1.65083742  1.70388875  1.35709783]\n",
            " [-1.47393679  0.30929911 -1.33331205 -1.31260282]\n",
            " [ 0.47641375 -0.36147005  0.32855254  0.15573254]\n",
            " [-0.13307079 -1.25582892  0.72969227  1.09012776]\n",
            " [-0.37686461  2.5451963  -1.33331205 -1.31260282]\n",
            " [ 0.23261993 -0.13788033  0.61508092  0.8231577 ]\n",
            " [-0.01117388 -0.80864948  0.78699794  0.95664273]\n",
            " [ 0.23261993 -1.92659808  0.15663551 -0.24472256]\n",
            " [-0.49876152 -0.13788033  0.44316389  0.4227026 ]\n",
            " [ 0.47641375  0.75647855  0.95891497  1.49058286]\n",
            " [-0.37686461 -1.70300836  0.15663551  0.15573254]\n",
            " [-0.49876152  1.87442714 -1.16139502 -1.04563275]\n",
            " [-0.98634915 -1.70300836 -0.24450422 -0.24472256]\n",
            " [ 0.72020757 -0.80864948  0.90160929  0.95664273]\n",
            " [-0.98634915  0.53288883 -1.33331205 -1.31260282]\n",
            " [-0.98634915  0.30929911 -1.4479234  -1.31260282]\n",
            " [-0.37686461 -1.47941864  0.04202416 -0.11123753]\n",
            " [ 1.08589829 -0.13788033  0.72969227  0.68967267]\n",
            " [-1.10824606  0.08570939 -1.27600637 -1.31260282]\n",
            " [-0.01117388 -0.58505976  0.78699794  1.62406789]\n",
            " [-0.98634915  0.75647855 -1.27600637 -1.31260282]\n",
            " [-0.98634915  0.98006827 -1.2187007  -0.77866269]\n",
            " [ 0.11072303  0.30929911  0.61508092  0.8231577 ]\n",
            " [-0.86445224 -1.25582892 -0.41642124 -0.11123753]\n",
            " [ 1.32969211  0.30929911  1.130832    1.49058286]\n",
            " [ 0.23261993 -0.80864948  0.78699794  0.55618763]\n",
            " [ 0.35451684 -1.0322392   1.07352632  0.28921757]\n",
            " [ 2.30486738 -0.13788033  1.3600547   1.49058286]\n",
            " [-0.37686461 -1.25582892  0.15663551  0.15573254]\n",
            " [-1.7177306  -0.36147005 -1.33331205 -1.31260282]\n",
            " [-1.83962751 -0.13788033 -1.50522907 -1.44608785]\n",
            " [ 0.23261993 -1.92659808  0.72969227  0.4227026 ]\n",
            " [ 1.69538284  0.30929911  1.30274902  0.8231577 ]\n",
            " [-1.47393679  0.08570939 -1.27600637 -1.31260282]\n",
            " [-0.86445224  0.98006827 -1.33331205 -1.17911778]\n",
            " [-1.7177306  -0.13788033 -1.39061772 -1.31260282]\n",
            " [ 0.59831066 -1.25582892  0.67238659  0.4227026 ]\n",
            " [ 0.59831066  0.75647855  1.07352632  1.62406789]\n",
            " [-1.47393679  0.75647855 -1.33331205 -1.17911778]\n",
            " [ 1.2077952  -0.13788033  1.01622064  1.22361279]\n",
            " [ 0.59831066  0.53288883  1.30274902  1.75755292]\n",
            " [-1.35203988  0.30929911 -1.39061772 -1.31260282]\n",
            " [ 0.35451684 -0.36147005  0.55777524  0.28921757]\n",
            " [ 0.84210448 -0.58505976  0.50046957  0.4227026 ]\n",
            " [ 0.47641375 -0.58505976  0.61508092  0.8231577 ]\n",
            " [ 1.45158902  0.30929911  0.55777524  0.28921757]\n",
            " [ 0.72020757  0.30929911  0.90160929  1.49058286]\n",
            " [-0.86445224  1.65083742 -1.2187007  -1.31260282]\n",
            " [ 1.32969211  0.08570939  0.95891497  1.22361279]\n",
            " [ 0.11072303 -0.13788033  0.27124686  0.4227026 ]\n",
            " [ 0.84210448 -0.13788033  0.84430362  1.09012776]\n",
            " [-0.13307079 -1.0322392  -0.12989286 -0.24472256]\n",
            " [-0.74255534 -0.80864948  0.09932984  0.28921757]\n",
            " [ 0.35451684 -0.13788033  0.50046957  0.28921757]\n",
            " [-1.5958337  -1.70300836 -1.39061772 -1.17911778]\n",
            " [ 0.96400139 -0.36147005  0.50046957  0.15573254]\n",
            " [-0.37686461 -1.0322392   0.38585821  0.02224751]\n",
            " [-0.62065843  1.4272477  -1.27600637 -1.31260282]\n",
            " [-0.2549677  -0.13788033  0.21394119  0.15573254]\n",
            " [ 1.81727975 -0.36147005  1.47466605  0.8231577 ]\n",
            " [ 1.08589829  0.53288883  1.130832    1.22361279]\n",
            " [-0.86445224  1.4272477  -1.27600637 -1.04563275]\n",
            " [-1.10824606 -1.47941864 -0.24450422 -0.24472256]\n",
            " [ 1.08589829  0.53288883  1.130832    1.75755292]\n",
            " [ 1.69538284 -0.13788033  1.18813767  0.55618763]\n",
            " [-1.10824606  1.20365799 -1.33331205 -1.44608785]\n",
            " [ 1.08589829  0.08570939  1.07352632  1.62406789]\n",
            " [-1.10824606 -0.13788033 -1.33331205 -1.31260282]\n",
            " [ 1.32969211  0.08570939  0.67238659  0.4227026 ]\n",
            " [ 1.93917666 -0.58505976  1.3600547   0.95664273]\n",
            " [ 0.59831066 -0.36147005  1.07352632  0.8231577 ]\n",
            " [-0.13307079 -0.58505976  0.21394119  0.15573254]\n",
            " [ 0.84210448 -0.13788033  1.01622064  0.8231577 ]\n",
            " [ 0.59831066 -1.70300836  0.38585821  0.15573254]\n",
            " [ 0.72020757 -0.36147005  0.32855254  0.15573254]\n",
            " [-0.2549677  -0.58505976  0.67238659  1.09012776]\n",
            " [ 0.11072303 -0.13788033  0.78699794  0.8231577 ]\n",
            " [-0.49876152  0.75647855 -1.16139502 -1.31260282]\n",
            " [ 0.35451684 -0.58505976  0.15663551  0.15573254]\n",
            " [-1.10824606 -1.25582892  0.44316389  0.68967267]\n",
            " [-0.01117388  2.09801686 -1.4479234  -1.31260282]\n",
            " [-0.01117388 -1.0322392   0.15663551  0.02224751]\n",
            " [ 1.57348593 -0.13788033  1.24544335  1.22361279]] [0 0 1 0 0 2 1 0 0 0 2 1 1 0 0 1 2 2 1 2 1 2 1 0 2 1 0 0 0 1 2 0 0 0 1 0 1\n",
            " 2 0 1 2 0 2 2 1 1 2 1 0 1 2 0 0 1 1 0 2 0 0 1 1 2 1 2 2 1 0 0 2 2 0 0 0 1\n",
            " 2 0 2 2 0 1 1 2 1 2 0 2 1 2 1 1 1 0 1 1 0 1 2 2 0 1 2 2 0 2 0 1 2 2 1 2 1\n",
            " 1 2 2 0 1 2 0 1 2]\n"
          ]
        }
      ]
    },
    {
      "cell_type": "code",
      "source": [
        "test_idx = 0\n",
        "test_point = X_test[test_idx]\n",
        "true_label = y_test[test_idx]\n",
        "print(test_point,true_label)"
      ],
      "metadata": {
        "colab": {
          "base_uri": "https://localhost:8080/"
        },
        "id": "b2Imxf1SY9aT",
        "outputId": "51d3fa3d-3eb5-40e0-ba28-2ab7174b5652"
      },
      "execution_count": null,
      "outputs": [
        {
          "output_type": "stream",
          "name": "stdout",
          "text": [
            "[ 0.35451684 -0.58505976  0.55777524  0.02224751] 1\n"
          ]
        }
      ]
    },
    {
      "cell_type": "code",
      "source": [
        "neighbors = get_k_neighbors(X_train, y_train, test_point, k=5)\n",
        "print(neighbors)"
      ],
      "metadata": {
        "colab": {
          "base_uri": "https://localhost:8080/"
        },
        "id": "SjWqJ537ZDlF",
        "outputId": "c1802719-9bde-4e7e-eee3-be7977d594e6"
      },
      "execution_count": null,
      "outputs": [
        {
          "output_type": "stream",
          "name": "stdout",
          "text": [
            "[(np.float64(0.34823178706501134), np.int64(1)), (np.float64(0.36771254998670044), np.int64(1)), (np.float64(0.4227662891071315), np.int64(1)), (np.float64(0.5040668310447319), np.int64(1)), (np.float64(0.5218646919048143), np.int64(2))]\n"
          ]
        }
      ]
    },
    {
      "cell_type": "code",
      "source": [
        "print(f\"\\nTest Point #{test_idx}: {test_point}\")\n",
        "print(f\"True Label: {true_label}\")\n",
        "print(\"K Nearest Neighbors (distance, label):\")\n",
        "for dist, label in neighbors:\n",
        "    print(f\"  Distance: {dist:.4f}, Label: {label}\")"
      ],
      "metadata": {
        "colab": {
          "base_uri": "https://localhost:8080/"
        },
        "id": "zJkS2Ko3ZJcM",
        "outputId": "8adec752-a923-4970-984c-3353fb2bb363"
      },
      "execution_count": null,
      "outputs": [
        {
          "output_type": "stream",
          "name": "stdout",
          "text": [
            "\n",
            "Test Point #0: [ 0.35451684 -0.58505976  0.55777524  0.02224751]\n",
            "True Label: 1\n",
            "K Nearest Neighbors (distance, label):\n",
            "  Distance: 0.3482, Label: 1\n",
            "  Distance: 0.3677, Label: 1\n",
            "  Distance: 0.4228, Label: 1\n",
            "  Distance: 0.5041, Label: 1\n",
            "  Distance: 0.5219, Label: 2\n"
          ]
        }
      ]
    },
    {
      "cell_type": "code",
      "source": [
        "from collections import Counter\n",
        "\n",
        "def predict_classification(neighbors):\n",
        "    labels = [label for _,label in neighbors]\n",
        "    most_common = Counter(labels).most_common(1)\n",
        "    print(most_common)\n",
        "    return most_common[0][0]"
      ],
      "metadata": {
        "id": "ibujEsOrZMJG"
      },
      "execution_count": null,
      "outputs": []
    },
    {
      "cell_type": "code",
      "source": [
        "neighbors = get_k_neighbors(X_train, y_train, test_point, k=3)\n",
        "predicted_label = predict_classification(neighbors)\n",
        "print(f\"Predicted Label: {predicted_label}\")\n",
        "print(f\"True Label: {true_label}\")\n"
      ],
      "metadata": {
        "colab": {
          "base_uri": "https://localhost:8080/"
        },
        "id": "fc17O418aYDh",
        "outputId": "ff381f6a-9b92-4794-daf5-c1a1a888c3c5"
      },
      "execution_count": null,
      "outputs": [
        {
          "output_type": "stream",
          "name": "stdout",
          "text": [
            "[(np.int64(1), 3)]\n",
            "Predicted Label: 1\n",
            "True Label: 1\n"
          ]
        }
      ]
    },
    {
      "cell_type": "code",
      "source": [],
      "metadata": {
        "colab": {
          "base_uri": "https://localhost:8080/"
        },
        "id": "rDzqspxNiuDF",
        "outputId": "683a110e-087a-4164-8288-cd9b91155351"
      },
      "execution_count": null,
      "outputs": [
        {
          "output_type": "stream",
          "name": "stdout",
          "text": [
            "KNN Sklearn Accuracy: 1.0000\n"
          ]
        }
      ]
    },
    {
      "cell_type": "code",
      "source": [],
      "metadata": {
        "id": "CkSLZ-oCdOue"
      },
      "execution_count": null,
      "outputs": []
    },
    {
      "cell_type": "code",
      "source": [],
      "metadata": {
        "colab": {
          "base_uri": "https://localhost:8080/",
          "height": 1000
        },
        "id": "pdZ-iACkaY3x",
        "outputId": "86b1087b-c108-4890-ac02-5aac1c868217"
      },
      "execution_count": null,
      "outputs": [
        {
          "output_type": "stream",
          "name": "stdout",
          "text": [
            "[1 1 1]\n",
            "[0 0 0]\n",
            "[2 2 2]\n",
            "[1 1 1]\n",
            "[1 1 1]\n",
            "[0 0 0]\n",
            "[1 1 1]\n",
            "[2 2 2]\n",
            "[1 1 2]\n",
            "[1 1 1]\n",
            "[2 2 1]\n",
            "[0 0 0]\n",
            "[0 0 0]\n",
            "[0 0 0]\n",
            "[0 0 0]\n",
            "[1 1 2]\n",
            "[2 2 2]\n",
            "[1 1 1]\n",
            "[1 1 1]\n",
            "[2 2 2]\n",
            "[0 0 0]\n",
            "[2 2 2]\n",
            "[0 0 0]\n",
            "[2 2 2]\n",
            "[2 2 2]\n",
            "[2 2 2]\n",
            "[2 2 2]\n",
            "[2 2 2]\n",
            "[0 0 0]\n",
            "[0 0 0]\n",
            "[0 0 0]\n",
            "[0 0 0]\n",
            "[1 1 1]\n",
            "[0 0 0]\n",
            "[0 0 0]\n",
            "[2 2 2]\n",
            "[1 1 1]\n",
            "[0 0 0]\n",
            "[0 0 0]\n",
            "[0 0 0]\n",
            "[2 2 2]\n",
            "[1 1 1]\n",
            "[1 1 1]\n",
            "[0 0 0]\n",
            "[0 0 0]\n",
            "Custom KNN Accuracy: 1.0000\n",
            "[1 1 1 1 1]\n",
            "[0 0 0 0 0]\n",
            "[2 2 2 2 2]\n",
            "[1 1 1 1 1]\n",
            "[1 1 1 1 1]\n",
            "[0 0 0 0 0]\n",
            "[1 1 1 1 1]\n",
            "[2 2 2 2 2]\n",
            "[1 1 2 1 2]\n",
            "[1 1 1 1 1]\n",
            "[2 2 1 2 2]\n",
            "[0 0 0 0 0]\n",
            "[0 0 0 0 0]\n",
            "[0 0 0 0 0]\n",
            "[0 0 0 0 0]\n",
            "[1 1 2 1 1]\n",
            "[2 2 2 2 2]\n",
            "[1 1 1 1 1]\n",
            "[1 1 1 1 1]\n",
            "[2 2 2 2 2]\n",
            "[0 0 0 0 0]\n",
            "[2 2 2 1 2]\n",
            "[0 0 0 0 0]\n",
            "[2 2 2 2 2]\n",
            "[2 2 2 2 2]\n",
            "[2 2 2 2 2]\n",
            "[2 2 2 2 2]\n",
            "[2 2 2 2 2]\n",
            "[0 0 0 0 0]\n",
            "[0 0 0 0 0]\n",
            "[0 0 0 0 0]\n",
            "[0 0 0 0 0]\n",
            "[1 1 1 1 1]\n",
            "[0 0 0 0 0]\n",
            "[0 0 0 0 0]\n",
            "[2 2 2 1 1]\n",
            "[1 1 1 1 1]\n",
            "[0 0 0 0 0]\n",
            "[0 0 0 0 0]\n",
            "[0 0 0 0 0]\n",
            "[2 2 2 2 1]\n",
            "[1 1 1 2 1]\n",
            "[1 1 1 1 1]\n",
            "[0 0 0 0 0]\n",
            "[0 0 0 0 0]\n"
          ]
        },
        {
          "output_type": "display_data",
          "data": {
            "text/plain": [
              "<Figure size 1000x600 with 2 Axes>"
            ],
            "image/png": "[encoded data removed]"
          },
          "metadata": {}
        }
      ]
    },
    {
      "cell_type": "code",
      "source": [],
      "metadata": {
        "id": "1JX1BU8UdFSV"
      },
      "execution_count": null,
      "outputs": []
    }
  ]
}